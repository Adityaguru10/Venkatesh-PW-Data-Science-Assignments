{
 "cells": [
  {
   "cell_type": "raw",
   "id": "87e616e2",
   "metadata": {},
   "source": [
    "Q1 What is Statistics?\n",
    "- Collecting, Organzing (Des Making Procs) and Analysis of data (facts r pieces of info)\n"
   ]
  },
  {
   "cell_type": "raw",
   "id": "e5155b67",
   "metadata": {},
   "source": [
    "Q2. Define the different types of statistics and give an example of when each type might be used.\n",
    "- The 2 types are Descrptive statistcs and Inferencial Statistics \n",
    "  Decriptive statistics - It consists of Organizing and Summarizing data \n",
    "   Eg - To calulate mean of marks scored of 10 students\n",
    "  Inferential statistics - It consists of using data you have measured to form conclusion\n",
    "   Eg - Media conducts mock election before exit polls (To conclude about population from given sample)\n",
    "\n",
    "\n",
    "\n",
    "\n",
    "\n",
    "\n",
    "\n",
    "\n",
    "\n",
    "\n"
   ]
  },
  {
   "cell_type": "raw",
   "id": "ea1f171a",
   "metadata": {},
   "source": [
    "Q3. What are the different types of data and how do they differ from each other? Provide an example of\n",
    "each type of data.\n",
    "-                                    DATA\n",
    "\"                                                                                                       \n",
    "       |                                                        |                                                                   \n",
    "Quantitative    (Numerical)                              Qualitative (Categorical)\n",
    "|                    |                                      |             |                             \n",
    "Discreate         Continous                              Nominal      Ordinal\n",
    "(Whole no)     (Any val + decimal)                                    (Rank)\n",
    "     | eg              |   eg                               |    eg      |       \n",
    "No of child        Wt,Ht, Temp                          Pincode        Grade , Feedback \n",
    "                                                       (Blood Grp)\n",
    "                                                        ( M\\F) \n",
    "              \n",
    "\"\n",
    "\n",
    "\n",
    "\n",
    "\n",
    "\n",
    "\n",
    "\n",
    "\n",
    "\n",
    "\n",
    "\n",
    "\n",
    "\n",
    "\n",
    "\n",
    "\n",
    "\n",
    "\n",
    "\n",
    "\n",
    "\n",
    "\n",
    "\n",
    "\n",
    "\n",
    "\n",
    "\n",
    "\n",
    "\n",
    "\n"
   ]
  },
  {
   "cell_type": "raw",
   "id": "ec85060d",
   "metadata": {},
   "source": [
    "Q4. Categorise the following datasets with respect to quantitative and qualitative data types:\n",
    "(i) Grading in exam: A+, A, B+, B, C+, C, D, E                                   - ans)  Ordinal\n",
    "(ii) Colour of mangoes: yellow, green, orange, red                               - ans)  Nominal\n",
    "(iii) Height data of a class: [178.9, 179, 179.5, 176, 177.2, 178.3, 175.8,...]  - ans)  Continous\n",
    "(iv) Number of mangoes exported by a farm: [500, 600, 478, 672, ...]             - ans)  Descriptive  "
   ]
  },
  {
   "cell_type": "raw",
   "id": "68b93b8c",
   "metadata": {},
   "source": [
    "Q5. Explain the concept of levels of measurement and give an example of a variable for each level.\n",
    "\n",
    "\"!) Nominal Scale Data - for nominal data  - M/F   Eg - Pincode\n",
    "2) Ordinal  Scale Data - for ordinal data - Rank - Eg - Grade in Exam\n",
    "3) Interval  Scale Data - for Discreate and Continous Data - No absolute zero and ratio makes no sense -  Eg - Temperature, IQ\n",
    "4) Ratio Scale Data - for Discreate and Continous Data - absolute zero and ratio makes sense\" - Eg - Length, Weight\n"
   ]
  },
  {
   "cell_type": "raw",
   "id": "d638819f",
   "metadata": {},
   "source": [
    "Q6. Why is it important to understand the level of measurement when analyzing data? Provide an\n",
    "example to illustrate your answer.\n",
    "\n",
    "- Just say for an eg in an given data there is missing values for certain Columns(Features) and if the name of the feature is say Sex (M/F) then in order to fill the missing the values of the data we must use mode and in order to plot a graph we must use bar graph it is  bescuse it can be  measured only in Nominal Scale and this known only because of knowledge of scale of measurement\n"
   ]
  },
  {
   "cell_type": "raw",
   "id": "90a7fa7d",
   "metadata": {},
   "source": [
    "Q7. How nominal data type is different from ordinal data type.\n",
    "\n",
    "- in nominal data there exist no relation and comparison among them and hence cannot be categorised  Eg - sex (Male / female)\n",
    "but in ordinal data atleast they can be categorised based on the rank eg - Exam Grade"
   ]
  },
  {
   "cell_type": "raw",
   "id": "6b2e4e5d",
   "metadata": {},
   "source": [
    "Q8. Which type of plot can be used to display data in terms of range?\n",
    "- They can be measured using Hist plot "
   ]
  },
  {
   "cell_type": "raw",
   "id": "80466839",
   "metadata": {},
   "source": [
    "Q9. Describe the difference between descriptive and inferential statistics. Give an example of each\n",
    "type of statistics and explain how they are used.\n",
    "\n",
    "- The 2 types are Descrptive statistcs and Inferencial Statistics \n",
    "  Decriptive statistics - It consists of Organizing and Summarizing data \n",
    "   Eg - To calulate mean of marks scored of 10 students\n",
    "  Inferential statistics - It consists of using data you have measured to form conclusion\n",
    "   Eg - Media conducts mock election before exit polls (To conclude about population from given sample)\n",
    "   \n",
    "   Differences\n",
    "   \n",
    "   \"(a) Des \n",
    "1) MMM (Central Tendency )\n",
    "2) Var, Std deviation\n",
    "3) His, pdf, pmf\n",
    "\n",
    "(b) Inf\n",
    "1) sample ---est------ Pop data\n",
    "2) Z test , t test , CHI sq test\n",
    "3) a)  Hypo test b) H0 , H , p val , Sig val\n",
    "\n",
    "\n",
    "\n",
    "\n",
    "\n",
    "\n",
    "\n",
    "\n",
    "\n",
    "\n"
   ]
  },
  {
   "cell_type": "raw",
   "id": "b70db491",
   "metadata": {},
   "source": [
    "Q10. What are some common measures of central tendency and variability used in statistics? Explain\n",
    "how each measure can be used to describe a dataset.\n",
    "- 1) MMM (Central Tendency ) - Mean , Median and Mode\n",
    "2) Variability - Variance , Std deviation\n",
    "\n",
    "Uses\n",
    "Mean - for Discreate and continous when no outliers\n",
    "Median- if outlier is present\n",
    "Mode-  For Nominal\n",
    "\n",
    "Variance - Spread of the curve\n",
    "Std deviation - which data points comes under which level of std deviation / how much data  is away from the mean\n",
    "\n",
    " "
   ]
  }
 ],
 "metadata": {
  "kernelspec": {
   "display_name": "Python 3 (ipykernel)",
   "language": "python",
   "name": "python3"
  },
  "language_info": {
   "codemirror_mode": {
    "name": "ipython",
    "version": 3
   },
   "file_extension": ".py",
   "mimetype": "text/x-python",
   "name": "python",
   "nbconvert_exporter": "python",
   "pygments_lexer": "ipython3",
   "version": "3.9.12"
  }
 },
 "nbformat": 4,
 "nbformat_minor": 5
}
